{
 "cells": [
  {
   "cell_type": "code",
   "execution_count": null,
   "metadata": {
    "collapsed": false
   },
   "outputs": [],
   "source": [
    "!chmod +x sample_asl_video_level_experiment.sh\n",
    "!./sample_asl_video_level_experiment.sh\n"
   ]
  },
  {
   "cell_type": "code",
   "execution_count": null,
   "metadata": {
    "collapsed": false
   },
   "outputs": [],
   "source": [
    "#!gcloud ml-engine jobs describe yt8m_train_20170728_152421\n",
    "!gcloud ml-engine jobs describe yt8m_train_20170731_230308\n"
   ]
  },
  {
   "cell_type": "code",
   "execution_count": null,
   "metadata": {
    "collapsed": false
   },
   "outputs": [],
   "source": [
    "import google.datalab.ml as ml\n",
    "tensorboard_pid = ml.TensorBoard.start(\"gs://mrudula_yt8m_train_bucket/yt8m_train_video_level_moe_model_experiment_task\")\n"
   ]
  },
  {
   "cell_type": "code",
   "execution_count": 8,
   "metadata": {
    "collapsed": false
   },
   "outputs": [
    {
     "name": "stdout",
     "output_type": "stream",
     "text": [
      "Creating gs://mrudula_yt8m_train_bucket/...\n",
      "ServiceException: 409 Bucket mrudula_yt8m_train_bucket already exists.\n",
      "DEBUG: Running gcloud.ml-engine.jobs.submit.training with Namespace(_deepest_parser=ArgumentParser(prog='gcloud.ml-engine.jobs.submit.training', usage=None, description='Submits a Cloud Machine Learning training job.', version=None, formatter_class=<class 'argparse.HelpFormatter'>, conflict_handler='error', add_help=False), _specified_args={'staging_bucket': '--staging-bucket', 'verbosity': '--verbosity', 'package_path': '--package-path', 'runtime_version': '--runtime-version', 'module_name': '--module-name', 'region': '--region', 'config': '--config', 'job': 'JOB'}, account=None, async=False, authority_selector=None, authorization_token_file=None, calliope_command=<googlecloudsdk.calliope.backend.Command object at 0x7f67b71ca410>, command_path=['gcloud', 'ml-engine', 'jobs', 'submit', 'training'], config='youtube-8m/cloudml-gpu.yaml', configuration=None, credential_file_override=None, document=None, flatten=None, format=None, h=None, help=None, http_timeout=None, job='yt8m_train_20170801_001327', job_dir=None, log_http=None, module_name='youtube-8m.task', package_path='youtube-8m', packages=[], project=None, quiet=None, region='us-east1', runtime_version='1.2', scale_tier=None, staging_bucket=<googlecloudsdk.api_lib.storage.storage_util.BucketReference object at 0x7f67b70e3290>, stream_logs=False, trace_email=None, trace_log=None, trace_token=None, user_args=['--train_data_pattern=gs://youtube8m-ml-us-east1/1/frame_level/train/train*.tfrecord', '--eval_data_pattern=gs://youtube8m-ml-us-east1/1/frame_level/train/train*.tfrecord', '--frame_features=True', '--model=FrameLevelLogisticModel', '--feature_names=rgb', '--feature_sizes=1024', '--batch_size=128', '--train_dir=gs://mrudula_yt8m_train_bucket/yt8m_train_frame_level_logistic_model_task'], user_output_enabled=None, verbosity='debug', version=None).\n",
      "DEBUG: Looking for setup.py file at [/content/datalab/notebooksWeek1/YouTubeBoseASL/setup.py]\n",
      "INFO: Generating temporary setup.py file:\n",
      "from setuptools import setup\n",
      "\n",
      "if __name__ == '__main__':\n",
      "    setup(name='youtube-8m', packages=['youtube-8m'])\n",
      "\n",
      "DEBUG: Executing command: ['/usr/bin/python2', '-S', '/content/datalab/notebooksWeek1/YouTubeBoseASL/setup.py', 'egg_info', '--egg-base', '/tmp/tmpu18JsV', 'build', '--build-base', '/tmp/tmpu18JsV', '--build-temp', '/tmp/tmpu18JsV', 'sdist', '--dist-dir', '/tmp/tmpcKOsJI/output']\n",
      "DEBUG: Executing command: ['/usr/bin/python2', '/content/datalab/notebooksWeek1/YouTubeBoseASL/setup.py', 'egg_info', '--egg-base', '/tmp/tmpu18JsV', 'build', '--build-base', '/tmp/tmpu18JsV', '--build-temp', '/tmp/tmpu18JsV', 'sdist', '--dist-dir', '/tmp/tmpcKOsJI/output']\n",
      "DEBUG: Python packaging resulted in [/tmp/tmpcKOsJI/output/youtube-8m-0.0.0.tar.gz]\n",
      "DEBUG: Couldn't remove file [/content/datalab/notebooksWeek1/YouTubeBoseASL/setup.pyc] (it may never have been created).\n",
      "INFO: Uploading [/tmp/tmpcKOsJI/output/youtube-8m-0.0.0.tar.gz] to [yt8m_train_20170801_001327/9eed569803841c068d327980ab0868a5e094eff2f86d0327a9827ad08b19df09/youtube-8m-0.0.0.tar.gz]\n",
      "DEBUG: Using [u'gs://mrudula_yt8m_train_bucket/yt8m_train_20170801_001327/9eed569803841c068d327980ab0868a5e094eff2f86d0327a9827ad08b19df09/youtube-8m-0.0.0.tar.gz'] as trainer uris\n",
      "Job [yt8m_train_20170801_001327] submitted successfully.\n",
      "Your job is still active. You may view the status of your job with the command\n",
      "\n",
      "  $ gcloud ml-engine jobs describe yt8m_train_20170801_001327\n",
      "\n",
      "or continue streaming the logs with the command\n",
      "\n",
      "  $ gcloud ml-engine jobs stream-logs yt8m_train_20170801_001327\n",
      "INFO: Display format \"yaml(jobId,state,startTime.date(tz=LOCAL),endTime.date(tz=LOCAL))\".\n",
      "jobId: yt8m_train_20170801_001327\n",
      "state: QUEUED\n"
     ]
    }
   ],
   "source": [
    "!chmod +x sample_asl_frame_level_experiments.sh\n",
    "!./sample_asl_frame_level_experiments.sh\n"
   ]
  },
  {
   "cell_type": "code",
   "execution_count": 9,
   "metadata": {
    "collapsed": false
   },
   "outputs": [
    {
     "name": "stdout",
     "output_type": "stream",
     "text": [
      "createTime: '2017-08-01T00:13:28Z'\r\n",
      "jobId: yt8m_train_20170801_001327\r\n",
      "state: QUEUED\r\n",
      "trainingInput:\r\n",
      "  args:\r\n",
      "  - --train_data_pattern=gs://youtube8m-ml-us-east1/1/frame_level/train/train*.tfrecord\r\n",
      "  - --eval_data_pattern=gs://youtube8m-ml-us-east1/1/frame_level/train/train*.tfrecord\r\n",
      "  - --frame_features=True\r\n",
      "  - --model=FrameLevelLogisticModel\r\n",
      "  - --feature_names=rgb\r\n",
      "  - --feature_sizes=1024\r\n",
      "  - --batch_size=128\r\n",
      "  - --train_dir=gs://mrudula_yt8m_train_bucket/yt8m_train_frame_level_logistic_model_task\r\n",
      "  masterType: standard_gpu\r\n",
      "  packageUris:\r\n",
      "  - gs://mrudula_yt8m_train_bucket/yt8m_train_20170801_001327/9eed569803841c068d327980ab0868a5e094eff2f86d0327a9827ad08b19df09/youtube-8m-0.0.0.tar.gz\r\n",
      "  pythonModule: youtube-8m.task\r\n",
      "  region: us-east1\r\n",
      "  runtimeVersion: '1.2'\r\n",
      "  scaleTier: CUSTOM\r\n",
      "trainingOutput: {}\r\n",
      "\r\n",
      "View job in the Cloud Console at:\r\n",
      "https://console.cloud.google.com/ml/jobs/yt8m_train_20170801_001327?project=qwiklabs-gcp-3efe763afa31c340\r\n",
      "\r\n",
      "View logs at:\r\n",
      "https://console.cloud.google.com/logs?resource=ml.googleapis.com%2Fjob_id%2Fyt8m_train_20170801_001327&project=qwiklabs-gcp-3efe763afa31c340\r\n"
     ]
    }
   ],
   "source": [
    "!gcloud ml-engine jobs describe yt8m_train_20170801_001327"
   ]
  },
  {
   "cell_type": "code",
   "execution_count": null,
   "metadata": {
    "collapsed": true
   },
   "outputs": [],
   "source": []
  }
 ],
 "metadata": {
  "kernelspec": {
   "display_name": "Python 2",
   "language": "python",
   "name": "python2"
  },
  "language_info": {
   "codemirror_mode": {
    "name": "ipython",
    "version": 2
   },
   "file_extension": ".py",
   "mimetype": "text/x-python",
   "name": "python",
   "nbconvert_exporter": "python",
   "pygments_lexer": "ipython2",
   "version": "2.7.9"
  }
 },
 "nbformat": 4,
 "nbformat_minor": 2
}
