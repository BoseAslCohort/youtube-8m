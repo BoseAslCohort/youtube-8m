{
 "cells": [
  {
   "cell_type": "code",
   "execution_count": null,
   "metadata": {
    "collapsed": true
   },
   "outputs": [],
   "source": [
    "#!/bin/bash\n",
    "#Sample command lines to run the cat_vs_dog example in Google Cloud\n",
    "\n",
    "# This sample assumes you're already setup for using CloudML.  If this is your\n",
    "# first time with the service, start here:\n",
    "# https://cloud.google.com/ml/docs/how-tos/getting-set-up\n",
    "\n",
    "\n",
    "\n",
    "# Declare some environment variables used in data preprocessing and training.\n",
    "\n",
    "# The following variables may need to be changed based on your own config.\n",
    "\n",
    "BUCKET_NAME=gs://mrudula_yt8m_train_bucket\n",
    "# (One Time) Create a storage bucket to store training logs and checkpoints.\n",
    "gsutil mb -l us-east1 $BUCKET_NAME\n",
    "\n",
    "\n",
    "JOB_NAME=yt8m_train_$(date +%Y%m%d_%H%M%S); gcloud --verbosity=debug ml-engine jobs \\\n",
    "submit training $JOB_NAME \\\n",
    "--package-path=youtube-8m --module-name=youtube-8m.train \\\n",
    "--staging-bucket=$BUCKET_NAME --region=us-east1 \\\n",
    "--config=youtube-8m/coludml-gpu-distributed_custom.yaml \\\n",
    "-- --train_data_pattern='gs://youtube8m-ml-us-east1/1/video_level/train/train*.tfrecord' \\\n",
    "--model=MoeModel \\\n",
    "--train_dir=$BUCKET_NAME/yt8m_train_20170802_161320 \\\n",
    "--start_new_model = False /\n"
   ]
  },
  {
   "cell_type": "code",
   "execution_count": 1,
   "metadata": {
    "collapsed": false
   },
   "outputs": [
    {
     "name": "stdout",
     "output_type": "stream",
     "text": [
      "On branch lukedev\r\n",
      "Your branch is ahead of 'origin/lukedev' by 1 commit.\r\n",
      "  (use \"git push\" to publish your local commits)\r\n",
      "Changes not staged for commit:\r\n",
      "  (use \"git add <file>...\" to update what will be committed)\r\n",
      "  (use \"git checkout -- <file>...\" to discard changes in working directory)\r\n",
      "\r\n",
      "\t\u001b[31mmodified:   cloudml-gpu.yaml\u001b[m\r\n",
      "\t\u001b[31mmodified:   coludml-gpu-distributed_custom.yaml\u001b[m\r\n",
      "\t\u001b[31mmodified:   eval.py\u001b[m\r\n",
      "\t\u001b[31mmodified:   train.py\u001b[m\r\n",
      "\r\n",
      "Untracked files:\r\n",
      "  (use \"git add <file>...\" to include in what will be committed)\r\n",
      "\r\n",
      "\t\u001b[31mDeployYTChallenge.ipynb\u001b[m\r\n",
      "\t\u001b[31mEVAL_asl_video_level (2).sh\u001b[m\r\n",
      "\t\u001b[31mUntitled Notebook.ipynb\u001b[m\r\n",
      "\t\u001b[31mUntitled Notebook1.ipynb\u001b[m\r\n",
      "\t\u001b[31msample_asl_video_level_original (2).sh\u001b[m\r\n",
      "\t\u001b[31msample_asl_video_level_original_notrestore (1).sh\u001b[m\r\n",
      "\r\n",
      "no changes added to commit (use \"git add\" and/or \"git commit -a\")\r\n"
     ]
    }
   ],
   "source": [
    "!git status"
   ]
  },
  {
   "cell_type": "code",
   "execution_count": null,
   "metadata": {
    "collapsed": false
   },
   "outputs": [],
   "source": []
  },
  {
   "cell_type": "code",
   "execution_count": null,
   "metadata": {
    "collapsed": true
   },
   "outputs": [],
   "source": []
  }
 ],
 "metadata": {
  "kernelspec": {
   "display_name": "Python 2",
   "language": "python",
   "name": "python2"
  },
  "language_info": {
   "codemirror_mode": {
    "name": "ipython",
    "version": 2
   },
   "file_extension": ".py",
   "mimetype": "text/x-python",
   "name": "python",
   "nbconvert_exporter": "python",
   "pygments_lexer": "ipython2",
   "version": "2.7.9"
  }
 },
 "nbformat": 4,
 "nbformat_minor": 2
}
